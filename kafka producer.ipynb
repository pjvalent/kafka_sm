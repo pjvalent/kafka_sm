{
 "cells": [
  {
   "cell_type": "code",
   "execution_count": null,
   "id": "b5a9ab19-a37e-490e-88ae-c65fbca525e9",
   "metadata": {},
   "outputs": [],
   "source": [
    "import pandas as pd\n",
    "from kafka import KafkaConsumer, KafkaProducer\n",
    "from time import sleep\n",
    "import json"
   ]
  },
  {
   "cell_type": "code",
   "execution_count": null,
   "id": "b190c96f-ea8b-4725-b574-7ab58ad8b915",
   "metadata": {},
   "outputs": [],
   "source": [
    "producer = KafkaProducer(bootstrap_servers=['<ip address of EC2 instance:port>'],\n",
    "                         value_serializer=lambda x: json.dumps(x).encode('utf-8'))"
   ]
  },
  {
   "cell_type": "code",
   "execution_count": null,
   "id": "5d24da6e-4198-498d-ae36-ca2eeb43f496",
   "metadata": {},
   "outputs": [],
   "source": [
    "producer.send('<name of kafka topic>', value={'Hello': 'World!'})"
   ]
  },
  {
   "cell_type": "code",
   "execution_count": null,
   "id": "5b3c7ecd-3f82-4e84-97a7-333a400991d1",
   "metadata": {},
   "outputs": [],
   "source": [
    "df = pd.read_csv('<source data file>')\n",
    "df.head(5)"
   ]
  },
  {
   "cell_type": "code",
   "execution_count": null,
   "id": "4ffc1c7c-2b0c-4560-8f16-18d0f0fd5a1f",
   "metadata": {},
   "outputs": [],
   "source": [
    "while True:\n",
    "    dict_stock = df.sample(1).to_dict(orient='records')[0]\n",
    "    producer.send('<name of kafka topic>', value=dict_stock)\n",
    "    sleep(1)"
   ]
  },
  {
   "cell_type": "code",
   "execution_count": null,
   "id": "b757afd0-50c8-4ef0-836f-b9861f5aa2e3",
   "metadata": {},
   "outputs": [],
   "source": [
    "producer.flush()"
   ]
  }
 ],
 "metadata": {
  "kernelspec": {
   "display_name": "Python 3 (ipykernel)",
   "language": "python",
   "name": "python3"
  },
  "language_info": {
   "codemirror_mode": {
    "name": "ipython",
    "version": 3
   },
   "file_extension": ".py",
   "mimetype": "text/x-python",
   "name": "python",
   "nbconvert_exporter": "python",
   "pygments_lexer": "ipython3",
   "version": "3.11.5"
  }
 },
 "nbformat": 4,
 "nbformat_minor": 5
}

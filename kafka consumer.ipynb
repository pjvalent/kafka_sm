{
 "cells": [
  {
   "cell_type": "code",
   "execution_count": null,
   "id": "b3d5b3d1-ab43-48da-afdb-2f9427644b98",
   "metadata": {},
   "outputs": [],
   "source": [
    "import pandas as pd\n",
    "from kafka import KafkaConsumer, KafkaProducer\n",
    "from time import sleep\n",
    "import json\n",
    "from s3fs import S3FileSystem"
   ]
  },
  {
   "cell_type": "code",
   "execution_count": null,
   "id": "db7d04e1-1498-4fe1-8ad3-6bbf0a699644",
   "metadata": {},
   "outputs": [],
   "source": [
    "consumer = KafkaConsumer('<name of kafka topic>',\n",
    "                         bootstrap_servers=['<ip address of EC2 instance:port>'],\n",
    "                         value_deserializer=lambda x: json.loads(x.decode('utf-8')))"
   ]
  },
  {
   "cell_type": "code",
   "execution_count": null,
   "id": "6b081ee4-c75b-4b0b-a51e-220e66329420",
   "metadata": {},
   "outputs": [],
   "source": [
    "s3 = S3FileSystem()"
   ]
  },
  {
   "cell_type": "code",
   "execution_count": null,
   "id": "e4a1faaa-7734-4184-a369-06af82c0f9e4",
   "metadata": {},
   "outputs": [],
   "source": [
    "for count, i in enumerate(consumer):\n",
    "    with s3.open(\"s3://<s3 bucket name>/stock_market_{}.json\".format(count), 'w') as file:\n",
    "        json.dump(i.value, file)\n",
    "        print(count) #just to see that progress is occuring\n",
    "    "
   ]
  },
  {
   "cell_type": "code",
   "execution_count": null,
   "id": "ed4ece82-53c1-4366-a74c-fa1fd4024bbf",
   "metadata": {},
   "outputs": [],
   "source": [
    "for c in consumer:\n",
    "    print(c.value)"
   ]
  }
 ],
 "metadata": {
  "kernelspec": {
   "display_name": "Python 3 (ipykernel)",
   "language": "python",
   "name": "python3"
  },
  "language_info": {
   "codemirror_mode": {
    "name": "ipython",
    "version": 3
   },
   "file_extension": ".py",
   "mimetype": "text/x-python",
   "name": "python",
   "nbconvert_exporter": "python",
   "pygments_lexer": "ipython3",
   "version": "3.11.5"
  }
 },
 "nbformat": 4,
 "nbformat_minor": 5
}
